{
 "metadata": {
  "language_info": {
   "codemirror_mode": {
    "name": "ipython",
    "version": 3
   },
   "file_extension": ".py",
   "mimetype": "text/x-python",
   "name": "python",
   "nbconvert_exporter": "python",
   "pygments_lexer": "ipython3",
   "version": "3.8.5-final"
  },
  "orig_nbformat": 2,
  "kernelspec": {
   "name": "python3",
   "display_name": "Python 3",
   "language": "python"
  }
 },
 "nbformat": 4,
 "nbformat_minor": 2,
 "cells": [
  {
   "cell_type": "code",
   "execution_count": 1,
   "metadata": {},
   "outputs": [
    {
     "output_type": "stream",
     "name": "stdout",
     "text": [
      "numbers : 20 30\n50\nnumbers : 10 30\n300\n"
     ]
    }
   ],
   "source": [
    "def fun(a,b):\n",
    "    print(\"numbers :\",a,b)\n",
    "    if(a*b>500):\n",
    "        return a+b\n",
    "    else:\n",
    "        return a*b\n",
    "print(fun(20,30))\n",
    "print(fun(10,30))"
   ]
  },
  {
   "cell_type": "code",
   "execution_count": 2,
   "metadata": {},
   "outputs": [
    {
     "output_type": "stream",
     "name": "stdout",
     "text": [
      "number = 3\n6\nnumber = 5\n120\n"
     ]
    }
   ],
   "source": [
    "def fun(n):\n",
    "    print(\"number =\",n)\n",
    "    f = 1\n",
    "    for i in range(1,n+1):\n",
    "        f*=i\n",
    "    return f\n",
    "print(fun(3))\n",
    "print(fun(5))"
   ]
  },
  {
   "cell_type": "code",
   "execution_count": 3,
   "metadata": {},
   "outputs": [
    {
     "output_type": "stream",
     "name": "stdout",
     "text": [
      "[2, 3, 4]\n"
     ]
    }
   ],
   "source": [
    "def fun(a, b):\n",
    "    c = []\n",
    "    for i in a:\n",
    "        for j in b:\n",
    "            if i == j and i not in c:\n",
    "                c.append(i)\n",
    "    return c\n",
    "\n",
    "a = [1,2,3,4,5]\n",
    "b = [2,2,3,4,4,6,8]\n",
    "print(fun(a, b))"
   ]
  },
  {
   "cell_type": "code",
   "execution_count": 4,
   "metadata": {},
   "outputs": [
    {
     "output_type": "stream",
     "name": "stdout",
     "text": [
      "Printing current and previous number sum in a given range(10)\nCurrent Number 0 Previous Number 0 Sum: 0\nCurrent Number 1 Previous Number 0 Sum: 1\nCurrent Number 2 Previous Number 1 Sum: 3\nCurrent Number 3 Previous Number 2 Sum: 5\nCurrent Number 4 Previous Number 3 Sum: 7\nCurrent Number 5 Previous Number 4 Sum: 9\nCurrent Number 6 Previous Number 5 Sum: 11\nCurrent Number 7 Previous Number 6 Sum: 13\nCurrent Number 8 Previous Number 7 Sum: 15\nCurrent Number 9 Previous Number 8 Sum: 17\n"
     ]
    }
   ],
   "source": [
    "def fun(n):\n",
    "    print(\"Printing current and previous number sum in a given range({})\".format(n))\n",
    "    prev = 0\n",
    "    for i in range(n):\n",
    "        cur = i\n",
    "        print(\"Current Number {} Previous Number {} Sum: {}\".format(cur,prev,cur+prev))\n",
    "        prev = cur\n",
    "fun(10)"
   ]
  },
  {
   "cell_type": "code",
   "execution_count": 5,
   "metadata": {},
   "outputs": [
    {
     "output_type": "stream",
     "name": "stdout",
     "text": [
      "Given list is [10, 20, 30, 40, 10]\nTrue\nGiven list is [10, 20, 30, 40, 50]\nFalse\n"
     ]
    }
   ],
   "source": [
    "def fun(a):\n",
    "    print(\"Given list is {}\".format(a))\n",
    "    if a[0]==a[len(a)-1]:\n",
    "        print(\"True\")\n",
    "    else:\n",
    "        print(\"False\")\n",
    "fun([10,20,30,40,10])\n",
    "fun([10,20,30,40,50])"
   ]
  },
  {
   "cell_type": "code",
   "execution_count": 6,
   "metadata": {},
   "outputs": [
    {
     "output_type": "stream",
     "name": "stdout",
     "text": [
      "Given list is [10, 20, 33, 46, 55]\n",
      "Divisible of 5 list\n",
      "10\n",
      "20\n",
      "55\n"
     ]
    }
   ],
   "source": [
    "def fun(a):\n",
    "    print(\"Given list is {}\".format(a))\n",
    "    print(\"Divisible of 5 list\")\n",
    "    for i in a:\n",
    "        if i%5==0:\n",
    "            print(i)\n",
    "fun([10,20,33,46,55])"
   ]
  },
  {
   "cell_type": "code",
   "execution_count": 7,
   "metadata": {},
   "outputs": [
    {
     "output_type": "execute_result",
     "data": {
      "text/plain": [
       "2"
      ]
     },
     "metadata": {},
     "execution_count": 7
    }
   ],
   "source": [
    "def fun(s):\n",
    "    c = 0\n",
    "    for i in range(len(s)):\n",
    "        if s[i:i+4]==\"John\":\n",
    "            c+=1\n",
    "    return c\n",
    "fun(\"John is a good developer. John is a writer\") "
   ]
  },
  {
   "cell_type": "code",
   "execution_count": 8,
   "metadata": {},
   "outputs": [
    {
     "output_type": "stream",
     "name": "stdout",
     "text": [
      "\n",
      "1 \n",
      "2 2 \n",
      "3 3 3 \n",
      "4 4 4 4 \n",
      "5 5 5 5 5 \n"
     ]
    }
   ],
   "source": [
    "def fun():\n",
    "    for i in range(6):\n",
    "        for j in range(i):\n",
    "            print(i,end=\" \")\n",
    "        print()\n",
    "fun()"
   ]
  },
  {
   "cell_type": "code",
   "execution_count": 9,
   "metadata": {},
   "outputs": [
    {
     "output_type": "stream",
     "name": "stdout",
     "text": [
      "original number 121\nThe original and reverse number is the same\noriginal number 125\nThe original and reverse number is not same\n"
     ]
    }
   ],
   "source": [
    "def fun(s):\n",
    "    print(\"original number {}\".format(s))\n",
    "    if s==s[::-1]:\n",
    "       print(\"The original and reverse number is the same\")\n",
    "    else:\n",
    "        print(\"The original and reverse number is not same\")\n",
    "\n",
    "fun(str(121))\n",
    "fun(str(125))"
   ]
  },
  {
   "cell_type": "code",
   "execution_count": 10,
   "metadata": {},
   "outputs": [
    {
     "output_type": "stream",
     "name": "stdout",
     "text": [
      "First List [100, 20, 23, 11, 17]\nSecond List [13, 43, 24, 36, 12]\n\nresult List is [23, 11, 17, 24, 36, 12]\n"
     ]
    }
   ],
   "source": [
    "def fun(a,b):\n",
    "    print(\"First List {}\".format(a))\n",
    "    print(f'Second List {b}')\n",
    "    c = []\n",
    "    for i in a:\n",
    "        if i%2!=0:\n",
    "            c.append(i)\n",
    "    for i in b:\n",
    "        if i%2==0:\n",
    "            c.append(i)\n",
    "    print(f'\\nresult List is {c}')\n",
    "fun([100,20,23,11,17],[13,43,24,36,12])"
   ]
  },
  {
   "cell_type": "code",
   "execution_count": 11,
   "metadata": {},
   "outputs": [
    {
     "output_type": "stream",
     "name": "stdout",
     "text": [
      "Printing Cubes upto 10\nCube of 1 : 1\nCube of 2 : 8\nCube of 3 : 27\nCube of 4 : 64\nCube of 5 : 125\nCube of 6 : 216\nCube of 7 : 343\nCube of 8 : 512\nCube of 9 : 729\nCube of 10 : 1000\n"
     ]
    }
   ],
   "source": [
    "    def fun(n):\n",
    "        print(f\"Printing Cubes upto {n}\")\n",
    "        for i in range(1,n+1):\n",
    "            print(f'Cube of {i} : {i*i*i}')\n",
    "    fun(10)"
   ]
  },
  {
   "cell_type": "code",
   "execution_count": 12,
   "metadata": {},
   "outputs": [
    {
     "output_type": "stream",
     "name": "stdout",
     "text": [
      "number of terms = 5\n24690\n"
     ]
    }
   ],
   "source": [
    "def fun(n):\n",
    "    print(f'number of terms = {n}')\n",
    "    s = 0\n",
    "    for i in range(1,n+1):\n",
    "        s += int(str(2)*i)\n",
    "    print(s)\n",
    "fun(5)"
   ]
  },
  {
   "cell_type": "code",
   "execution_count": 13,
   "metadata": {},
   "outputs": [
    {
     "output_type": "stream",
     "name": "stdout",
     "text": [
      "\n* \n* * \n* * * \n* * * * \n* * * * * \n* * * * \n* * * \n* * \n* \n"
     ]
    }
   ],
   "source": [
    "def fun():\n",
    "    for i in range(5 + 1):\n",
    "        print('* '*i)\n",
    "    for i in range(4,0,-1):\n",
    "        print('* '*i)\n",
    "fun()"
   ]
  },
  {
   "cell_type": "code",
   "execution_count": 14,
   "metadata": {},
   "outputs": [
    {
     "output_type": "stream",
     "name": "stdout",
     "text": [
      "20 40 60 80 100 "
     ]
    }
   ],
   "source": [
    "def fun(a):\n",
    "    for i in range(1,len(a),2):\n",
    "        print(a[i],end=\" \")\n",
    "fun([10,20,30,40,50,60,70,80,90,100])"
   ]
  },
  {
   "cell_type": "code",
   "execution_count": 15,
   "metadata": {},
   "outputs": [
    {
     "output_type": "stream",
     "name": "stdout",
     "text": [
      "76542\n24567\n"
     ]
    }
   ],
   "source": [
    "def fun(n):\n",
    "    print(n)\n",
    "    print(str(n)[::-1])\n",
    "fun(76542)"
   ]
  },
  {
   "cell_type": "code",
   "execution_count": 16,
   "metadata": {},
   "outputs": [
    {
     "output_type": "stream",
     "name": "stdout",
     "text": [
      "120\n"
     ]
    }
   ],
   "source": [
    "def fun(n):\n",
    "    if n==0:\n",
    "        return 1\n",
    "    return n*fun(n-1)\n",
    "print(fun(5))"
   ]
  },
  {
   "cell_type": "code",
   "execution_count": 17,
   "metadata": {},
   "outputs": [
    {
     "output_type": "stream",
     "name": "stdout",
     "text": [
      "Prime numbers between 25 and 50 are :\n29\n31\n37\n41\n43\n47\n"
     ]
    }
   ],
   "source": [
    "def prime(num):\n",
    "    if num > 1:  \n",
    "        for i in range(2,num):  \n",
    "            if (num % i) == 0:  \n",
    "                return False\n",
    "        else:  \n",
    "            return True\n",
    "    return False  \n",
    "def fun(a,b):\n",
    "    print(f'Prime numbers between {a} and {b} are :')\n",
    "    for i in range(a,b+1):\n",
    "        if prime(i):\n",
    "            print(i)\n",
    "fun(25,50)"
   ]
  },
  {
   "cell_type": "code",
   "execution_count": 18,
   "metadata": {},
   "outputs": [
    {
     "output_type": "stream",
     "name": "stdout",
     "text": [
      "5 4 3 2 1 \n",
      "4 3 2 1 \n",
      "3 2 1 \n",
      "2 1 \n",
      "1 \n"
     ]
    }
   ],
   "source": [
    "def fun():\n",
    "    for i in range(5,0,-1):\n",
    "        for j in range(i,0,-1):\n",
    "            print(j,end=\" \")\n",
    "        print()\n",
    "fun()"
   ]
  },
  {
   "cell_type": "code",
   "execution_count": 19,
   "metadata": {},
   "outputs": [
    {
     "output_type": "stream",
     "name": "stdout",
     "text": [
      "1 \n1 2 \n1 2 3 \n1 2 3 4 \n1 2 3 4 5 \n"
     ]
    }
   ],
   "source": [
    "def fun():\n",
    "    for i in range(1,6):\n",
    "        for j in range(1,i+1):\n",
    "            print(j,end=\" \")\n",
    "        print()\n",
    "fun()"
   ]
  },
  {
   "cell_type": "code",
   "execution_count": 20,
   "metadata": {},
   "outputs": [
    {
     "output_type": "stream",
     "name": "stdout",
     "text": [
      "3\n"
     ]
    }
   ],
   "source": [
    "def fun(n):\n",
    "    print(len(str(n)))\n",
    "fun(150)"
   ]
  },
  {
   "cell_type": "code",
   "execution_count": 21,
   "metadata": {},
   "outputs": [
    {
     "output_type": "stream",
     "name": "stdout",
     "text": [
      "Name = King and age = 18\n"
     ]
    }
   ],
   "source": [
    "def fun(name,age):\n",
    "    print(f'Name = {name} and age = {age}')\n",
    "fun(\"King\",18)"
   ]
  },
  {
   "cell_type": "code",
   "execution_count": 22,
   "metadata": {},
   "outputs": [
    {
     "output_type": "stream",
     "name": "stdout",
     "text": [
      "Employee Ben salary is 9000\nEmployee Ben salary is 9000\n"
     ]
    }
   ],
   "source": [
    "def fun(name, salary=9000):\n",
    "    print(f'Employee {name} salary is {salary}')\n",
    "    \n",
    "fun(\"Ben\", 9000)\n",
    "fun(\"Ben\")"
   ]
  },
  {
   "cell_type": "code",
   "execution_count": 23,
   "metadata": {},
   "outputs": [
    {
     "output_type": "stream",
     "name": "stdout",
     "text": [
      "55\n"
     ]
    }
   ],
   "source": [
    "def fun(n):\n",
    "    if n==0:\n",
    "        return 0\n",
    "    return n+fun(n-1)\n",
    "print(fun(10))"
   ]
  },
  {
   "cell_type": "code",
   "execution_count": 24,
   "metadata": {},
   "outputs": [
    {
     "output_type": "stream",
     "name": "stdout",
     "text": [
      "numbers : 40,10 -> [50, 30]\n"
     ]
    }
   ],
   "source": [
    "def calc(a,b):\n",
    "    return [a+b,a-b]\n",
    "print(f'numbers : 40,10 -> {calc(40,10)}')"
   ]
  },
  {
   "cell_type": "code",
   "execution_count": 25,
   "metadata": {},
   "outputs": [
    {
     "output_type": "stream",
     "name": "stdout",
     "text": [
      "12\n"
     ]
    }
   ],
   "source": [
    "def fun1(a, b):\n",
    "    def inner():\n",
    "        return a + b\n",
    "    res = inner()\n",
    "    res += 5\n",
    "    return res\n",
    "\n",
    "print(fun1(3, 4))"
   ]
  },
  {
   "cell_type": "code",
   "execution_count": 26,
   "metadata": {},
   "outputs": [
    {
     "output_type": "stream",
     "name": "stdout",
     "text": [
      "Dip\nSon\n"
     ]
    }
   ],
   "source": [
    "def fun(s):\n",
    "    l = len(s)\n",
    "    m = (l//2-1)\n",
    "    return s[m:m+3]\n",
    "print(fun(\"JohnDipPeta\"))\n",
    "print(fun(\"JaSonAy\"))\n"
   ]
  },
  {
   "cell_type": "code",
   "execution_count": 27,
   "metadata": {},
   "outputs": [
    {
     "output_type": "stream",
     "name": "stdout",
     "text": [
      "AuKellylt\n"
     ]
    }
   ],
   "source": [
    "def fun(s1, s2):\n",
    "    m = len(s1)//2 + 1\n",
    "    return s1[0:m - 1] + s2 + s1[m-1:]\n",
    "\n",
    "s1 = \"Ault\"\n",
    "s2 = \"Kelly\"\n",
    "\n",
    "print(fun(s1, s2))"
   ]
  },
  {
   "cell_type": "code",
   "execution_count": 28,
   "metadata": {},
   "outputs": [
    {
     "output_type": "stream",
     "name": "stdout",
     "text": [
      "AJrpan\n"
     ]
    }
   ],
   "source": [
    "def fun(s1,s2):\n",
    "    m1 = len(s1)//2 + len(s1)%2 - 1\n",
    "    m2 = len(s2)//2 + len(s1)%2 - 1\n",
    "    return s1[0]+s2[0]+s1[m1]+s2[m2]+s1[len(s1)-1]+s2[len(s2)-1]\n",
    "s1 = \"America\"\n",
    "s2 = \"Japan\"\n",
    "print(fun(s1,s2))\n"
   ]
  },
  {
   "cell_type": "code",
   "execution_count": 29,
   "metadata": {},
   "outputs": [
    {
     "output_type": "stream",
     "name": "stdout",
     "text": [
      "Chars = 8\nDigits = 3\nSymbol = 4\n"
     ]
    }
   ],
   "source": [
    "def fun(s):\n",
    "    c1 = c2 = c3 = 0\n",
    "    for i in s:\n",
    "        if i.isalpha():\n",
    "            c1+=1\n",
    "        elif i.isdigit():\n",
    "            c2+=1\n",
    "        else:\n",
    "            c3+=1\n",
    "    print('Chars =',c1)\n",
    "    print('Digits =',c2)\n",
    "    print('Symbol =',c3)\n",
    "fun('P@#yn26at^&i5ve')"
   ]
  },
  {
   "cell_type": "code",
   "execution_count": 30,
   "metadata": {},
   "outputs": [
    {
     "output_type": "stream",
     "name": "stdout",
     "text": [
      "evitanYP\n"
     ]
    }
   ],
   "source": [
    "def fun(s):\n",
    "    return s[::-1]\n",
    "print(fun(\"PYnative\"))"
   ]
  },
  {
   "cell_type": "code",
   "execution_count": 31,
   "metadata": {},
   "outputs": [
    {
     "output_type": "stream",
     "name": "stdout",
     "text": [
      "[500, 400, 300, 200, 100]\n"
     ]
    }
   ],
   "source": [
    "def fun(a):\n",
    "    a.reverse()\n",
    "a = [100,200,300,400,500]\n",
    "fun(a)\n",
    "print(a)"
   ]
  },
  {
   "cell_type": "code",
   "execution_count": 32,
   "metadata": {},
   "outputs": [
    {
     "output_type": "stream",
     "name": "stdout",
     "text": [
      "['My', 'name', 'is', 'kellu']\n"
     ]
    }
   ],
   "source": [
    "a = [\"M\",\"na\",\"i\",\"ke\"]\n",
    "b = [\"y\",\"me\",\"s\",\"llu\"]\n",
    "c = [a[i]+b[i] for i in range(len(a))]\n",
    "print(c)"
   ]
  },
  {
   "cell_type": "code",
   "execution_count": 33,
   "metadata": {},
   "outputs": [
    {
     "output_type": "stream",
     "name": "stdout",
     "text": [
      "[1, 4, 9, 16, 25, 36, 49]\n"
     ]
    }
   ],
   "source": [
    "a = [1,2,3,4,5,6,7]\n",
    "for i in range(len(a)):\n",
    "    a[i] *= a[i]\n",
    "print(a)"
   ]
  },
  {
   "cell_type": "code",
   "execution_count": 34,
   "metadata": {},
   "outputs": [
    {
     "output_type": "stream",
     "name": "stdout",
     "text": [
      "['Hello Dear', 'Hello Sir', 'take Dear', 'take Sir']\n"
     ]
    }
   ],
   "source": [
    "a = [\"Hello\",\"take\"]\n",
    "b = [\"Dear\",\"Sir\"]\n",
    "c = []\n",
    "for i in a:\n",
    "    for j in b:\n",
    "        c.append(i+\" \"+j)\n",
    "print(c)"
   ]
  },
  {
   "cell_type": "code",
   "execution_count": 35,
   "metadata": {},
   "outputs": [
    {
     "output_type": "stream",
     "name": "stdout",
     "text": [
      "10 400\n20 300\n30 200\n40 100\n"
     ]
    }
   ],
   "source": [
    "a = [10,20,30,40]\n",
    "b = [100,200,300,400]\n",
    "for i in range(len(a)):\n",
    "    print(a[i],b[len(a)-i-1])\n"
   ]
  },
  {
   "cell_type": "code",
   "execution_count": 36,
   "metadata": {},
   "outputs": [
    {
     "output_type": "stream",
     "name": "stdout",
     "text": [
      "['Mike', 'Emma', 'Kelly', 'Brad']\n"
     ]
    }
   ],
   "source": [
    "a = [\"Mike\",\"\",\"Emma\",\"Kelly\",\"\",\"Brad\"]\n",
    "b = []\n",
    "for i in a:\n",
    "    if i!=\"\":\n",
    "        b.append(i)\n",
    "print(b)"
   ]
  },
  {
   "cell_type": "code",
   "execution_count": 37,
   "metadata": {},
   "outputs": [
    {
     "output_type": "stream",
     "name": "stdout",
     "text": [
      "[10, 20, [300, 400, [5000, 6000, 7000], 500], 30, 40]\n"
     ]
    }
   ],
   "source": [
    "a = [10,20,[300,400,[5000,6000],500],30,40]\n",
    "a[2][2].append(7000)\n",
    "print(a)"
   ]
  },
  {
   "cell_type": "code",
   "execution_count": 38,
   "metadata": {},
   "outputs": [
    {
     "output_type": "stream",
     "name": "stdout",
     "text": [
      "['a', 'b', ['c', ['d', 'e', ['f', 'g', 'h', 'i', 'j'], 'k'], 'l'], 'm', 'n']\n"
     ]
    }
   ],
   "source": [
    "a = [ 'a', 'b', [ 'c', [ 'd', 'e', [ 'f', 'g' ], 'k' ], 'l' ], 'm', 'n' ]\n",
    "a[2][1][2].extend(['h', 'i', 'j'])\n",
    "print(a)"
   ]
  },
  {
   "cell_type": "code",
   "execution_count": 39,
   "metadata": {},
   "outputs": [
    {
     "output_type": "stream",
     "name": "stdout",
     "text": [
      "[5, 10, 15, 200, 25, 50, 20]\n"
     ]
    }
   ],
   "source": [
    "a = [5, 10, 15, 20, 25, 50, 20]\n",
    "for i in range(len(a)):\n",
    "    if a[i] == 20:\n",
    "        a[i] = 200\n",
    "        break\n",
    "print(a)"
   ]
  },
  {
   "cell_type": "code",
   "execution_count": 40,
   "metadata": {},
   "outputs": [
    {
     "output_type": "stream",
     "name": "stdout",
     "text": [
      "[5, 10, 15, 25, 50]\n"
     ]
    }
   ],
   "source": [
    "a = [5, 10, 15, 20, 25, 50, 20]\n",
    "print([i for i in a if i != 20])"
   ]
  }
 ]
}